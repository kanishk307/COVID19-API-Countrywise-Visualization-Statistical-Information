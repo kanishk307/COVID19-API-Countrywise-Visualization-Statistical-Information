{
 "cells": [
  {
   "cell_type": "code",
   "execution_count": 291,
   "metadata": {},
   "outputs": [],
   "source": [
    "from __future__ import print_function\n",
    "import requests\n",
    "import numpy as np\n",
    "import pprint\n",
    "import pandas as pd\n",
    "from matplotlib import pyplot as plt\n",
    "from datetime import datetime, timedelta\n",
    "from matplotlib import dates\n",
    "from matplotlib.pyplot import figure\n",
    "import ipywidgets as widgets\n",
    "from ipywidgets import interact, interactive, fixed, interact_manual\n",
    "from dateutil.parser import parse\n",
    "import locale"
   ]
  },
  {
   "cell_type": "code",
   "execution_count": 292,
   "metadata": {},
   "outputs": [
    {
     "data": {
      "text/plain": [
       "'en_US'"
      ]
     },
     "execution_count": 292,
     "metadata": {},
     "output_type": "execute_result"
    }
   ],
   "source": [
    "locale.setlocale(locale.LC_ALL, 'en_US')"
   ]
  },
  {
   "cell_type": "code",
   "execution_count": 222,
   "metadata": {},
   "outputs": [],
   "source": [
    "url_countries = \"https://api.covid19api.com/countries\""
   ]
  },
  {
   "cell_type": "code",
   "execution_count": 223,
   "metadata": {},
   "outputs": [],
   "source": [
    "countries = requests.get(url_countries)"
   ]
  },
  {
   "cell_type": "code",
   "execution_count": 224,
   "metadata": {},
   "outputs": [
    {
     "data": {
      "text/plain": [
       "200"
      ]
     },
     "execution_count": 224,
     "metadata": {},
     "output_type": "execute_result"
    }
   ],
   "source": [
    "countries.status_code"
   ]
  },
  {
   "cell_type": "code",
   "execution_count": 225,
   "metadata": {},
   "outputs": [],
   "source": [
    "countries = countries.json()\n",
    "#countries"
   ]
  },
  {
   "cell_type": "code",
   "execution_count": 226,
   "metadata": {},
   "outputs": [],
   "source": [
    "country_slug_list = []\n",
    "country_list = []"
   ]
  },
  {
   "cell_type": "code",
   "execution_count": 227,
   "metadata": {},
   "outputs": [],
   "source": [
    "for country in countries:\n",
    "    country_slug_list.append(country['Slug'])"
   ]
  },
  {
   "cell_type": "code",
   "execution_count": 228,
   "metadata": {},
   "outputs": [],
   "source": [
    "for country in countries:\n",
    "    country_list.append(country['Country'])"
   ]
  },
  {
   "cell_type": "code",
   "execution_count": null,
   "metadata": {},
   "outputs": [],
   "source": []
  },
  {
   "cell_type": "code",
   "execution_count": 229,
   "metadata": {},
   "outputs": [],
   "source": [
    "country_slug_list.sort()\n",
    "country_list.sort()"
   ]
  },
  {
   "cell_type": "code",
   "execution_count": 230,
   "metadata": {
    "scrolled": false
   },
   "outputs": [],
   "source": [
    "#country_slug_list"
   ]
  },
  {
   "cell_type": "code",
   "execution_count": null,
   "metadata": {},
   "outputs": [],
   "source": []
  },
  {
   "cell_type": "code",
   "execution_count": 231,
   "metadata": {},
   "outputs": [
    {
     "data": {
      "application/vnd.jupyter.widget-view+json": {
       "model_id": "1e07afdfa74b466c9a7ada39348aa98a",
       "version_major": 2,
       "version_minor": 0
      },
      "text/plain": [
       "Dropdown(description='Country:', options=('afghanistan', 'ala-aland-islands', 'albania', 'algeria', 'american-…"
      ]
     },
     "metadata": {},
     "output_type": "display_data"
    }
   ],
   "source": [
    "dropdown_country = widgets.Dropdown(\n",
    "    options=(country_slug_list),\n",
    "#     value='Country',\n",
    "    description='Country:',\n",
    "    disabled=False,\n",
    ")\n",
    "\n",
    "    \n",
    "# dropdown_country.observe(dropdown_country_eventhandler, names='value')\n",
    "display(dropdown_country)\n",
    "\n",
    "# def dropdown_country_eventhandler(change):\n",
    "#     print(dropdown_country.value)"
   ]
  },
  {
   "cell_type": "code",
   "execution_count": 261,
   "metadata": {},
   "outputs": [],
   "source": [
    "country_name = dropdown_country.value"
   ]
  },
  {
   "cell_type": "code",
   "execution_count": 262,
   "metadata": {},
   "outputs": [
    {
     "data": {
      "text/plain": [
       "'russia'"
      ]
     },
     "execution_count": 262,
     "metadata": {},
     "output_type": "execute_result"
    }
   ],
   "source": [
    "country_name"
   ]
  },
  {
   "cell_type": "code",
   "execution_count": 263,
   "metadata": {},
   "outputs": [],
   "source": [
    "#country_name = \"india\""
   ]
  },
  {
   "cell_type": "code",
   "execution_count": 264,
   "metadata": {},
   "outputs": [],
   "source": [
    "url_complete_status = f\"https://api.covid19api.com/total/dayone/country/{country_name}\""
   ]
  },
  {
   "cell_type": "code",
   "execution_count": 265,
   "metadata": {},
   "outputs": [],
   "source": [
    "stats_since_day_one = requests.get(url_complete_status)"
   ]
  },
  {
   "cell_type": "code",
   "execution_count": 266,
   "metadata": {},
   "outputs": [],
   "source": [
    "stats_since_day_one = stats_since_day_one.json()"
   ]
  },
  {
   "cell_type": "code",
   "execution_count": 267,
   "metadata": {},
   "outputs": [],
   "source": [
    "#pprint.pprint(stats_since_day_one)"
   ]
  },
  {
   "cell_type": "code",
   "execution_count": 268,
   "metadata": {},
   "outputs": [],
   "source": [
    "# country_name = stats_since_day_one[0]['Country']\n",
    "# country_name"
   ]
  },
  {
   "cell_type": "code",
   "execution_count": 269,
   "metadata": {},
   "outputs": [],
   "source": [
    "active_list = []\n",
    "confirmed_list =[]\n",
    "deaths_list = []\n",
    "recovered_list = []\n",
    "date_list = []\n",
    "new_date_list = []\n",
    "# lat = []\n",
    "# lon =[]"
   ]
  },
  {
   "cell_type": "code",
   "execution_count": 270,
   "metadata": {},
   "outputs": [],
   "source": [
    "for stat in stats_since_day_one:\n",
    "    active_list.append(stat['Active'])\n",
    "    confirmed_list.append(stat['Confirmed'])\n",
    "    deaths_list.append(stat['Deaths'])\n",
    "    recovered_list.append(stat['Recovered'])\n",
    "    date_list.append(stat['Date'])\n",
    "    \n",
    "    "
   ]
  },
  {
   "cell_type": "code",
   "execution_count": 271,
   "metadata": {},
   "outputs": [],
   "source": [
    "for date in date_list:\n",
    "    new_date_list.append(date[:10])"
   ]
  },
  {
   "cell_type": "code",
   "execution_count": 272,
   "metadata": {},
   "outputs": [],
   "source": [
    "#new_date_list"
   ]
  },
  {
   "cell_type": "code",
   "execution_count": 273,
   "metadata": {},
   "outputs": [],
   "source": [
    "date_objects = [datetime.strptime(date, '%Y-%m-%d').date() for date in new_date_list]"
   ]
  },
  {
   "cell_type": "code",
   "execution_count": 274,
   "metadata": {},
   "outputs": [],
   "source": [
    "#date_objects"
   ]
  },
  {
   "cell_type": "code",
   "execution_count": 275,
   "metadata": {},
   "outputs": [],
   "source": [
    "# def y_label(argument):\n",
    "#     switcher = {\n",
    "#         active_list : ax.set_ylabel('Active Cases'),\n",
    "#         confirmed_list: ax.set_ylabel('Confirmed Cases'),\n",
    "#         deaths_list: ax.set_ylabel('Deaths'),\n",
    "#         recovered_list: ax.set_ylabel('Recovered'),\n",
    "#     }\n",
    "#     print(switcher.get(argument, \"No plot available\"))"
   ]
  },
  {
   "cell_type": "code",
   "execution_count": 276,
   "metadata": {},
   "outputs": [],
   "source": [
    "total_confirmed_cases = confirmed_list[-1]\n",
    "total_active_cases = active_list[-1]\n",
    "total_deaths = deaths_list[-1]\n",
    "total_recovered = recovered_list[-1]\n",
    "percent_active = round(total_active_cases/total_confirmed_cases*100,2)\n",
    "percent_death = round(total_deaths/total_confirmed_cases*100,2)\n",
    "percent_recovered = round(total_recovered/total_confirmed_cases*100,2)"
   ]
  },
  {
   "cell_type": "code",
   "execution_count": 277,
   "metadata": {},
   "outputs": [],
   "source": [
    "country_name_capitalized = country_name.capitalize()\n",
    "def yLabelTitle(ax,y):\n",
    "    if y == confirmed_list:\n",
    "        ax.set_ylabel('Confirmed Cases')\n",
    "        ax.set_title(f\"COVID-19 Confirmed Cases in {country_name_capitalized}\\n Total Confirmed Cases - {total_confirmed_cases}\")\n",
    "    elif y == active_list:\n",
    "        ax.set_ylabel('Active Cases')\n",
    "        ax.set_title(f\"COVID-19 Active Cases in {country_name_capitalized}\\n Total Active Cases - {total_active_cases}\")\n",
    "    elif y == deaths_list:\n",
    "        ax.set_ylabel('Total Deaths')\n",
    "        ax.set_title(f\"COVID-19 Deaths in {country_name_capitalized}\\n Total Deaths - {total_deaths}\")\n",
    "    elif y == recovered_list:\n",
    "        ax.set_ylabel('Total Recovered')\n",
    "        ax.set_title(f\"COVID-19 Recovered in {country_name_capitalized}\\n Total Recovered - {total_recovered}\")\n",
    "    else:\n",
    "        print(\"No Plot To Show\")\n",
    "        \n",
    "        \n",
    "        \n",
    "        "
   ]
  },
  {
   "cell_type": "code",
   "execution_count": 278,
   "metadata": {
    "scrolled": true
   },
   "outputs": [
    {
     "data": {
      "text/plain": [
       "Text(0.5, 0, 'Date')"
      ]
     },
     "execution_count": 278,
     "metadata": {},
     "output_type": "execute_result"
    },
    {
     "data": {
      "image/png": "[encoded data removed]",
      "text/plain": [
       "<Figure size 1152x360 with 1 Axes>"
      ]
     },
     "metadata": {
      "needs_background": "light"
     },
     "output_type": "display_data"
    }
   ],
   "source": [
    "x = date_objects\n",
    "y = confirmed_list\n",
    "fig, ax = plt.subplots(figsize=(16,5))\n",
    "ax.plot(x,y,linewidth=6.0)\n",
    "myFmt = dates.DateFormatter('%d\\n%b')\n",
    "ax.xaxis.set_major_formatter(myFmt)\n",
    "ax.xaxis.set_major_locator(dates.DayLocator(interval=3))\n",
    "yLabelTitle(ax,y)\n",
    "ax.set_xlabel(\"Date\")\n",
    "#ax.set_xlabel =  \n",
    "#plt.plot(date_objects,confirmed_list)\n",
    "# plt.set_xticks(date_objects)\n",
    "# plt.set_xticklabels(date_objects, rotation='vertical', fontsize=10)"
   ]
  },
  {
   "cell_type": "code",
   "execution_count": null,
   "metadata": {},
   "outputs": [],
   "source": []
  },
  {
   "cell_type": "code",
   "execution_count": null,
   "metadata": {},
   "outputs": [],
   "source": []
  },
  {
   "cell_type": "code",
   "execution_count": 279,
   "metadata": {},
   "outputs": [
    {
     "data": {
      "text/plain": [
       "Text(0.5, 0, 'Date')"
      ]
     },
     "execution_count": 279,
     "metadata": {},
     "output_type": "execute_result"
    },
    {
     "data": {
      "image/png": "[encoded data removed]",
      "text/plain": [
       "<Figure size 1152x360 with 1 Axes>"
      ]
     },
     "metadata": {
      "needs_background": "light"
     },
     "output_type": "display_data"
    }
   ],
   "source": [
    "x = date_objects\n",
    "y = active_list\n",
    "fig, ax = plt.subplots(figsize=(16,5))\n",
    "ax.plot(x,y,linewidth=6.0)\n",
    "myFmt = dates.DateFormatter('%d\\n%b')\n",
    "ax.xaxis.set_major_formatter(myFmt)\n",
    "ax.xaxis.set_major_locator(dates.DayLocator(interval=3))\n",
    "yLabelTitle(ax,y)\n",
    "ax.set_xlabel(\"Date\")"
   ]
  },
  {
   "cell_type": "code",
   "execution_count": 280,
   "metadata": {},
   "outputs": [
    {
     "data": {
      "text/plain": [
       "Text(0.5, 0, 'Date')"
      ]
     },
     "execution_count": 280,
     "metadata": {},
     "output_type": "execute_result"
    },
    {
     "data": {
      "image/png": "[encoded data removed]",
      "text/plain": [
       "<Figure size 1152x360 with 1 Axes>"
      ]
     },
     "metadata": {
      "needs_background": "light"
     },
     "output_type": "display_data"
    }
   ],
   "source": [
    "x = date_objects\n",
    "y = deaths_list\n",
    "fig, ax = plt.subplots(figsize=(16,5))\n",
    "ax.plot(x,y,linewidth=6.0)\n",
    "myFmt = dates.DateFormatter('%d\\n%b')\n",
    "ax.xaxis.set_major_formatter(myFmt)\n",
    "ax.xaxis.set_major_locator(dates.DayLocator(interval=3))\n",
    "yLabelTitle(ax,y)\n",
    "ax.set_xlabel(\"Date\")"
   ]
  },
  {
   "cell_type": "code",
   "execution_count": 281,
   "metadata": {},
   "outputs": [
    {
     "data": {
      "text/plain": [
       "Text(0.5, 0, 'Date')"
      ]
     },
     "execution_count": 281,
     "metadata": {},
     "output_type": "execute_result"
    },
    {
     "data": {
      "image/png": "[encoded data removed]",
      "text/plain": [
       "<Figure size 1152x360 with 1 Axes>"
      ]
     },
     "metadata": {
      "needs_background": "light"
     },
     "output_type": "display_data"
    }
   ],
   "source": [
    "x = date_objects\n",
    "y = recovered_list\n",
    "fig, ax = plt.subplots(figsize=(16,5))\n",
    "ax.plot(x,y,linewidth=6.0)\n",
    "myFmt = dates.DateFormatter('%d\\n%b')\n",
    "ax.xaxis.set_major_formatter(myFmt)\n",
    "ax.xaxis.set_major_locator(dates.DayLocator(interval=3))\n",
    "yLabelTitle(ax,y)\n",
    "ax.set_xlabel(\"Date\")"
   ]
  },
  {
   "cell_type": "code",
   "execution_count": 282,
   "metadata": {},
   "outputs": [],
   "source": [
    "avg_cases_per_day = round(total_confirmed_cases/days_since_first_case)\n",
    "avg_deaths_per_day = round(total_deaths/days_since_first_case)\n",
    "avg_recoveries_per_day = round(total_recovered/days_since_first_case)"
   ]
  },
  {
   "cell_type": "code",
   "execution_count": null,
   "metadata": {},
   "outputs": [],
   "source": []
  },
  {
   "cell_type": "code",
   "execution_count": 283,
   "metadata": {},
   "outputs": [],
   "source": [
    "first_case_reported = new_date_list[0]"
   ]
  },
  {
   "cell_type": "code",
   "execution_count": 284,
   "metadata": {},
   "outputs": [],
   "source": [
    "date_list_calculate = [datetime.strptime(dateInDatetime, '%Y-%m-%d') for dateInDatetime in new_date_list]"
   ]
  },
  {
   "cell_type": "code",
   "execution_count": 285,
   "metadata": {},
   "outputs": [
    {
     "data": {
      "text/plain": [
       "117"
      ]
     },
     "execution_count": 285,
     "metadata": {},
     "output_type": "execute_result"
    }
   ],
   "source": [
    "date_first_case = date_list_calculate[0]\n",
    "current_date = datetime.now()\n",
    "days_since_first_case = (current_date - date_first_case).days\n",
    "days_since_first_case\n"
   ]
  },
  {
   "cell_type": "code",
   "execution_count": 286,
   "metadata": {},
   "outputs": [],
   "source": [
    "# total_confirmed_cases = confirmed_list[-1]\n",
    "# total_active_cases = active_list[-1]\n",
    "# total_deaths = deaths_list[-1]\n",
    "# total_recovered = recovered_list[-1]\n",
    "# percent_active = round(total_active_cases/total_confirmed_cases*100,2)\n",
    "# percent_death = round(total_deaths/total_confirmed_cases*100,2)\n",
    "# percent_recovered = round(total_recovered/total_confirmed_cases*100,2)"
   ]
  },
  {
   "cell_type": "code",
   "execution_count": 287,
   "metadata": {},
   "outputs": [],
   "source": [
    "date_before_14_days = current_date - timedelta(days=14)\n",
    "#date_before_14_days\n",
    "year = date_before_14_days.strftime(\"%Y\")\n",
    "month = date_before_14_days.strftime(\"%m\")\n",
    "day = date_before_14_days.strftime(\"%d\")\n",
    "\n",
    "\n",
    "date_before_14_days_string = f\"{year}-{month}-{day}\"\n",
    "date_before_14_days_string\n",
    "\n",
    "index_before_14_days = new_date_list.index(\"2020-05-13\")\n",
    "#total_index = len(new_date_list) \n"
   ]
  },
  {
   "cell_type": "code",
   "execution_count": null,
   "metadata": {},
   "outputs": [],
   "source": []
  },
  {
   "cell_type": "code",
   "execution_count": 288,
   "metadata": {},
   "outputs": [],
   "source": [
    "# i = index_before_14_days\n",
    "# confirmed_cases_14_days = 0\n",
    "# active_cases_14_days = 0\n",
    "# deaths_14_days = 0\n",
    "# recovered_14_days = 0\n",
    "# while i<total_index:\n",
    "#     confirmed_cases_14_days += confirmed_list[i]\n",
    "#     active_cases_14_days += active_list[i]\n",
    "#     deaths_14_days += deaths_list[i]\n",
    "#     recovered_14_days += recovered_list[i]\n",
    "#     i = i+1\n",
    "confirmed_cases_14_days = total_confirmed_cases - confirmed_list[index_before_14_days]\n",
    "active_cases_14_days = total_active_cases - active_list[index_before_14_days]\n",
    "deaths_14_days = total_deaths - deaths_list[index_before_14_days]\n",
    "recovered_14_days = total_recovered - recovered_list[index_before_14_days]\n",
    "avg_cases_per_day_14_days = round(confirmed_cases_14_days/14)\n",
    "avg_deaths_per_day_14_days = round(deaths_14_days/14)\n",
    "avg_recoveries_per_day_14_days = round(recovered_14_days/14)"
   ]
  },
  {
   "cell_type": "code",
   "execution_count": 294,
   "metadata": {},
   "outputs": [
    {
     "ename": "AttributeError",
     "evalue": "'function' object has no attribute 'string'",
     "output_type": "error",
     "traceback": [
      "\u001b[1;31m---------------------------------------------------------------------------\u001b[0m",
      "\u001b[1;31mAttributeError\u001b[0m                            Traceback (most recent call last)",
      "\u001b[1;32m<ipython-input-294-2585e2ad6a35>\u001b[0m in \u001b[0;36m<module>\u001b[1;34m\u001b[0m\n\u001b[1;32m----> 1\u001b[1;33m \u001b[0mformatted_total_confirmed_casees\u001b[0m \u001b[1;33m=\u001b[0m \u001b[0mlocale\u001b[0m\u001b[1;33m.\u001b[0m\u001b[0mformat\u001b[0m\u001b[1;33m.\u001b[0m\u001b[0mstring\u001b[0m\u001b[1;33m(\u001b[0m\u001b[1;34m\"%d\"\u001b[0m\u001b[1;33m,\u001b[0m \u001b[0mtotal_confirmed_cases\u001b[0m\u001b[1;33m,\u001b[0m \u001b[0mgrouping\u001b[0m\u001b[1;33m=\u001b[0m\u001b[1;32mTrue\u001b[0m\u001b[1;33m)\u001b[0m\u001b[1;33m\u001b[0m\u001b[1;33m\u001b[0m\u001b[0m\n\u001b[0m",
      "\u001b[1;31mAttributeError\u001b[0m: 'function' object has no attribute 'string'"
     ]
    }
   ],
   "source": []
  },
  {
   "cell_type": "code",
   "execution_count": null,
   "metadata": {},
   "outputs": [],
   "source": []
  },
  {
   "cell_type": "code",
   "execution_count": 296,
   "metadata": {},
   "outputs": [
    {
     "name": "stdout",
     "output_type": "stream",
     "text": [
      "Statistics for Russia\n",
      "Total Confirmed Cases : 362,342\n",
      "Total Active Cases : 227,406\n",
      "Total Deaths : 3,807\n",
      "Total Recovered : 131,129\n",
      "Active Percentage : 62.76%\n",
      "Death Percentage : 1.05%\n",
      "Recovery Percentage : 36.19%\n",
      "First Case Reported : 2020-01-31\n",
      "Days since First Case : 117\n",
      "Average Cases Per Day : 3,071\n",
      "Average Deaths Per Day : 32\n",
      "Average Recoveries Per Day : 1,111\n",
      "\n",
      "\n",
      "Statistics for Russia For Last 14 days (2 weeks)\n",
      "Confirmed Cases : 120,071\n",
      "Active Cases : 35,350\n",
      "Deaths : 1,595\n",
      "Recovered : 83,126\n",
      "Average Cases Per Day : 8,576\n",
      "Average Deaths Per Day : 114\n",
      "Average Recoveries Per Day : 5,938\n"
     ]
    }
   ],
   "source": [
    "print(f\"Statistics for {country_name_capitalized}\")\n",
    "print(f\"Total Confirmed Cases : {total_confirmed_cases:n}\")\n",
    "print(f\"Total Active Cases : {total_active_cases:n}\")\n",
    "print(f\"Total Deaths : {total_deaths:n}\")\n",
    "print(f\"Total Recovered : {total_recovered:n}\")\n",
    "print(f\"Active Percentage : {percent_active:n}%\")\n",
    "print(f\"Death Percentage : {percent_death}%\")\n",
    "print(f\"Recovery Percentage : {percent_recovered}%\")\n",
    "print(f\"First Case Reported : {first_case_reported}\")\n",
    "print(f\"Days since First Case : {days_since_first_case}\")\n",
    "print(f\"Average Cases Per Day : {avg_cases_per_day:n}\")\n",
    "print(f\"Average Deaths Per Day : {avg_deaths_per_day:n}\")\n",
    "print(f\"Average Recoveries Per Day : {avg_recoveries_per_day:n}\")\n",
    "print(\"\\n\")\n",
    "print(f\"Statistics for {country_name_capitalized} For Last 14 days (2 weeks)\")\n",
    "print(f\"Confirmed Cases : {confirmed_cases_14_days:n}\")\n",
    "print(f\"Active Cases : {active_cases_14_days:n}\")\n",
    "print(f\"Deaths : {deaths_14_days:n}\")\n",
    "print(f\"Recovered : {recovered_14_days:n}\")\n",
    "print(f\"Average Cases Per Day : {avg_cases_per_day_14_days:n}\")\n",
    "print(f\"Average Deaths Per Day : {avg_deaths_per_day_14_days:n}\")\n",
    "print(f\"Average Recoveries Per Day : {avg_recoveries_per_day_14_days:n}\")\n",
    "\n"
   ]
  },
  {
   "cell_type": "code",
   "execution_count": null,
   "metadata": {},
   "outputs": [],
   "source": []
  },
  {
   "cell_type": "code",
   "execution_count": null,
   "metadata": {},
   "outputs": [],
   "source": []
  }
 ],
 "metadata": {
  "kernelspec": {
   "display_name": "Python 3",
   "language": "python",
   "name": "python3"
  },
  "language_info": {
   "codemirror_mode": {
    "name": "ipython",
    "version": 3
   },
   "file_extension": ".py",
   "mimetype": "text/x-python",
   "name": "python",
   "nbconvert_exporter": "python",
   "pygments_lexer": "ipython3",
   "version": "3.7.6"
  }
 },
 "nbformat": 4,
 "nbformat_minor": 4
}
