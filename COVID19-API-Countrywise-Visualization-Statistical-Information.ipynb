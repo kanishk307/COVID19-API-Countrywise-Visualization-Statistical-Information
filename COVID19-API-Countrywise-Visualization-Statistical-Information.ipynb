{
 "cells": [
  {
   "cell_type": "code",
   "execution_count": 297,
   "metadata": {},
   "outputs": [],
   "source": [
    "from __future__ import print_function\n",
    "import requests\n",
    "import numpy as np\n",
    "import pprint\n",
    "import pandas as pd\n",
    "from matplotlib import pyplot as plt\n",
    "from datetime import datetime, timedelta\n",
    "from matplotlib import dates\n",
    "from matplotlib.pyplot import figure\n",
    "import ipywidgets as widgets\n",
    "from ipywidgets import interact, interactive, fixed, interact_manual\n",
    "from dateutil.parser import parse\n",
    "import locale"
   ]
  },
  {
   "cell_type": "code",
   "execution_count": 298,
   "metadata": {},
   "outputs": [
    {
     "data": {
      "text/plain": [
       "'en_US'"
      ]
     },
     "execution_count": 298,
     "metadata": {},
     "output_type": "execute_result"
    }
   ],
   "source": [
    "locale.setlocale(locale.LC_ALL, 'en_US')"
   ]
  },
  {
   "cell_type": "code",
   "execution_count": 299,
   "metadata": {},
   "outputs": [],
   "source": [
    "url_countries = \"https://api.covid19api.com/countries\""
   ]
  },
  {
   "cell_type": "code",
   "execution_count": 300,
   "metadata": {},
   "outputs": [],
   "source": [
    "countries = requests.get(url_countries)"
   ]
  },
  {
   "cell_type": "code",
   "execution_count": 301,
   "metadata": {},
   "outputs": [
    {
     "data": {
      "text/plain": [
       "200"
      ]
     },
     "execution_count": 301,
     "metadata": {},
     "output_type": "execute_result"
    }
   ],
   "source": [
    "countries.status_code"
   ]
  },
  {
   "cell_type": "code",
   "execution_count": 302,
   "metadata": {},
   "outputs": [],
   "source": [
    "countries = countries.json()\n",
    "#countries"
   ]
  },
  {
   "cell_type": "code",
   "execution_count": 303,
   "metadata": {},
   "outputs": [],
   "source": [
    "country_slug_list = []\n",
    "country_list = []"
   ]
  },
  {
   "cell_type": "code",
   "execution_count": 304,
   "metadata": {},
   "outputs": [],
   "source": [
    "for country in countries:\n",
    "    country_slug_list.append(country['Slug'])"
   ]
  },
  {
   "cell_type": "code",
   "execution_count": 305,
   "metadata": {},
   "outputs": [],
   "source": [
    "for country in countries:\n",
    "    country_list.append(country['Country'])"
   ]
  },
  {
   "cell_type": "code",
   "execution_count": null,
   "metadata": {},
   "outputs": [],
   "source": []
  },
  {
   "cell_type": "code",
   "execution_count": 306,
   "metadata": {},
   "outputs": [],
   "source": [
    "country_slug_list.sort()\n",
    "country_list.sort()"
   ]
  },
  {
   "cell_type": "code",
   "execution_count": 307,
   "metadata": {
    "scrolled": false
   },
   "outputs": [],
   "source": [
    "#country_slug_list"
   ]
  },
  {
   "cell_type": "code",
   "execution_count": null,
   "metadata": {},
   "outputs": [],
   "source": []
  },
  {
   "cell_type": "code",
   "execution_count": 338,
   "metadata": {},
   "outputs": [
    {
     "data": {
      "application/vnd.jupyter.widget-view+json": {
       "model_id": "49b5b86b156a4181ac26dbc51f6135f6",
       "version_major": 2,
       "version_minor": 0
      },
      "text/plain": [
       "Dropdown(description='Country:', options=('afghanistan', 'ala-aland-islands', 'albania', 'algeria', 'american-…"
      ]
     },
     "metadata": {},
     "output_type": "display_data"
    }
   ],
   "source": [
    "dropdown_country = widgets.Dropdown(\n",
    "    options=(country_slug_list),\n",
    "#     value='Country',\n",
    "    description='Country:',\n",
    "    disabled=False,\n",
    ")\n",
    "\n",
    "    \n",
    "# dropdown_country.observe(dropdown_country_eventhandler, names='value')\n",
    "display(dropdown_country)\n",
    "\n",
    "# def dropdown_country_eventhandler(change):\n",
    "#     print(dropdown_country.value)"
   ]
  },
  {
   "cell_type": "code",
   "execution_count": 341,
   "metadata": {},
   "outputs": [],
   "source": [
    "country_name = dropdown_country.value"
   ]
  },
  {
   "cell_type": "code",
   "execution_count": 342,
   "metadata": {},
   "outputs": [
    {
     "data": {
      "text/plain": [
       "'brazil'"
      ]
     },
     "execution_count": 342,
     "metadata": {},
     "output_type": "execute_result"
    }
   ],
   "source": [
    "country_name"
   ]
  },
  {
   "cell_type": "code",
   "execution_count": 343,
   "metadata": {},
   "outputs": [],
   "source": [
    "#country_name = \"india\""
   ]
  },
  {
   "cell_type": "code",
   "execution_count": 344,
   "metadata": {},
   "outputs": [],
   "source": [
    "url_complete_status = f\"https://api.covid19api.com/total/dayone/country/{country_name}\""
   ]
  },
  {
   "cell_type": "code",
   "execution_count": 345,
   "metadata": {},
   "outputs": [],
   "source": [
    "stats_since_day_one = requests.get(url_complete_status)"
   ]
  },
  {
   "cell_type": "code",
   "execution_count": 346,
   "metadata": {},
   "outputs": [],
   "source": [
    "stats_since_day_one = stats_since_day_one.json()"
   ]
  },
  {
   "cell_type": "code",
   "execution_count": 347,
   "metadata": {},
   "outputs": [],
   "source": [
    "#pprint.pprint(stats_since_day_one)"
   ]
  },
  {
   "cell_type": "code",
   "execution_count": 348,
   "metadata": {},
   "outputs": [],
   "source": [
    "# country_name = stats_since_day_one[0]['Country']\n",
    "# country_name"
   ]
  },
  {
   "cell_type": "code",
   "execution_count": 349,
   "metadata": {},
   "outputs": [],
   "source": [
    "active_list = []\n",
    "confirmed_list =[]\n",
    "deaths_list = []\n",
    "recovered_list = []\n",
    "date_list = []\n",
    "new_date_list = []\n",
    "# lat = []\n",
    "# lon =[]"
   ]
  },
  {
   "cell_type": "code",
   "execution_count": 350,
   "metadata": {},
   "outputs": [],
   "source": [
    "for stat in stats_since_day_one:\n",
    "    active_list.append(stat['Active'])\n",
    "    confirmed_list.append(stat['Confirmed'])\n",
    "    deaths_list.append(stat['Deaths'])\n",
    "    recovered_list.append(stat['Recovered'])\n",
    "    date_list.append(stat['Date'])\n",
    "    \n",
    "    "
   ]
  },
  {
   "cell_type": "code",
   "execution_count": 351,
   "metadata": {},
   "outputs": [],
   "source": [
    "for date in date_list:\n",
    "    new_date_list.append(date[:10])"
   ]
  },
  {
   "cell_type": "code",
   "execution_count": 352,
   "metadata": {},
   "outputs": [],
   "source": [
    "#new_date_list"
   ]
  },
  {
   "cell_type": "code",
   "execution_count": 353,
   "metadata": {},
   "outputs": [],
   "source": [
    "date_objects = [datetime.strptime(date, '%Y-%m-%d').date() for date in new_date_list]"
   ]
  },
  {
   "cell_type": "code",
   "execution_count": 354,
   "metadata": {},
   "outputs": [],
   "source": [
    "#date_objects"
   ]
  },
  {
   "cell_type": "code",
   "execution_count": 355,
   "metadata": {},
   "outputs": [],
   "source": [
    "# def y_label(argument):\n",
    "#     switcher = {\n",
    "#         active_list : ax.set_ylabel('Active Cases'),\n",
    "#         confirmed_list: ax.set_ylabel('Confirmed Cases'),\n",
    "#         deaths_list: ax.set_ylabel('Deaths'),\n",
    "#         recovered_list: ax.set_ylabel('Recovered'),\n",
    "#     }\n",
    "#     print(switcher.get(argument, \"No plot available\"))"
   ]
  },
  {
   "cell_type": "code",
   "execution_count": 356,
   "metadata": {},
   "outputs": [],
   "source": [
    "total_confirmed_cases = confirmed_list[-1]\n",
    "total_active_cases = active_list[-1]\n",
    "total_deaths = deaths_list[-1]\n",
    "total_recovered = recovered_list[-1]\n",
    "percent_active = round(total_active_cases/total_confirmed_cases*100,2)\n",
    "percent_death = round(total_deaths/total_confirmed_cases*100,2)\n",
    "percent_recovered = round(total_recovered/total_confirmed_cases*100,2)"
   ]
  },
  {
   "cell_type": "code",
   "execution_count": 357,
   "metadata": {},
   "outputs": [],
   "source": [
    "country_name_capitalized = country_name.capitalize()\n",
    "def yLabelTitle(ax,y):\n",
    "    if y == confirmed_list:\n",
    "        ax.set_ylabel('Confirmed Cases')\n",
    "        ax.set_title(f\"COVID-19 Confirmed Cases in {country_name_capitalized}\\n Total Confirmed Cases - {total_confirmed_cases:n}\")\n",
    "    elif y == active_list:\n",
    "        ax.set_ylabel('Active Cases')\n",
    "        ax.set_title(f\"COVID-19 Active Cases in {country_name_capitalized}\\n Total Active Cases - {total_active_cases:n}\")\n",
    "    elif y == deaths_list:\n",
    "        ax.set_ylabel('Total Deaths')\n",
    "        ax.set_title(f\"COVID-19 Deaths in {country_name_capitalized}\\n Total Deaths - {total_deaths:n}\")\n",
    "    elif y == recovered_list:\n",
    "        ax.set_ylabel('Total Recovered')\n",
    "        ax.set_title(f\"COVID-19 Recovered in {country_name_capitalized}\\n Total Recovered - {total_recovered:n}\")\n",
    "    else:\n",
    "        print(\"No Plot To Show\")\n",
    "        \n",
    "        \n",
    "        \n",
    "        "
   ]
  },
  {
   "cell_type": "code",
   "execution_count": 358,
   "metadata": {
    "scrolled": true
   },
   "outputs": [
    {
     "data": {
      "text/plain": [
       "Text(0.5, 0, 'Date')"
      ]
     },
     "execution_count": 358,
     "metadata": {},
     "output_type": "execute_result"
    },
    {
     "data": {
      "image/png": "[encoded data removed]",
      "text/plain": [
       "<Figure size 1152x360 with 1 Axes>"
      ]
     },
     "metadata": {
      "needs_background": "light"
     },
     "output_type": "display_data"
    }
   ],
   "source": [
    "x = date_objects\n",
    "y = confirmed_list\n",
    "fig, ax = plt.subplots(figsize=(16,5))\n",
    "ax.plot(x,y,linewidth=6.0)\n",
    "myFmt = dates.DateFormatter('%d\\n%b')\n",
    "ax.xaxis.set_major_formatter(myFmt)\n",
    "ax.xaxis.set_major_locator(dates.DayLocator(interval=3))\n",
    "yLabelTitle(ax,y)\n",
    "ax.set_xlabel(\"Date\")\n",
    "#ax.set_xlabel =  \n",
    "#plt.plot(date_objects,confirmed_list)\n",
    "# plt.set_xticks(date_objects)\n",
    "# plt.set_xticklabels(date_objects, rotation='vertical', fontsize=10)"
   ]
  },
  {
   "cell_type": "code",
   "execution_count": null,
   "metadata": {},
   "outputs": [],
   "source": []
  },
  {
   "cell_type": "code",
   "execution_count": null,
   "metadata": {},
   "outputs": [],
   "source": []
  },
  {
   "cell_type": "code",
   "execution_count": 359,
   "metadata": {},
   "outputs": [
    {
     "data": {
      "text/plain": [
       "Text(0.5, 0, 'Date')"
      ]
     },
     "execution_count": 359,
     "metadata": {},
     "output_type": "execute_result"
    },
    {
     "data": {
      "image/png": "[encoded data removed]",
      "text/plain": [
       "<Figure size 1152x360 with 1 Axes>"
      ]
     },
     "metadata": {
      "needs_background": "light"
     },
     "output_type": "display_data"
    }
   ],
   "source": [
    "x = date_objects\n",
    "y = active_list\n",
    "fig, ax = plt.subplots(figsize=(16,5))\n",
    "ax.plot(x,y,linewidth=6.0)\n",
    "myFmt = dates.DateFormatter('%d\\n%b')\n",
    "ax.xaxis.set_major_formatter(myFmt)\n",
    "ax.xaxis.set_major_locator(dates.DayLocator(interval=3))\n",
    "yLabelTitle(ax,y)\n",
    "ax.set_xlabel(\"Date\")"
   ]
  },
  {
   "cell_type": "code",
   "execution_count": 360,
   "metadata": {},
   "outputs": [
    {
     "data": {
      "text/plain": [
       "Text(0.5, 0, 'Date')"
      ]
     },
     "execution_count": 360,
     "metadata": {},
     "output_type": "execute_result"
    },
    {
     "data": {
      "image/png": "[encoded data removed]",
      "text/plain": [
       "<Figure size 1152x360 with 1 Axes>"
      ]
     },
     "metadata": {
      "needs_background": "light"
     },
     "output_type": "display_data"
    }
   ],
   "source": [
    "x = date_objects\n",
    "y = deaths_list\n",
    "fig, ax = plt.subplots(figsize=(16,5))\n",
    "ax.plot(x,y,linewidth=6.0)\n",
    "myFmt = dates.DateFormatter('%d\\n%b')\n",
    "ax.xaxis.set_major_formatter(myFmt)\n",
    "ax.xaxis.set_major_locator(dates.DayLocator(interval=3))\n",
    "yLabelTitle(ax,y)\n",
    "ax.set_xlabel(\"Date\")"
   ]
  },
  {
   "cell_type": "code",
   "execution_count": 361,
   "metadata": {},
   "outputs": [
    {
     "data": {
      "text/plain": [
       "Text(0.5, 0, 'Date')"
      ]
     },
     "execution_count": 361,
     "metadata": {},
     "output_type": "execute_result"
    },
    {
     "data": {
      "image/png": "[encoded data removed]",
      "text/plain": [
       "<Figure size 1152x360 with 1 Axes>"
      ]
     },
     "metadata": {
      "needs_background": "light"
     },
     "output_type": "display_data"
    }
   ],
   "source": [
    "x = date_objects\n",
    "y = recovered_list\n",
    "fig, ax = plt.subplots(figsize=(16,5))\n",
    "ax.plot(x,y,linewidth=6.0)\n",
    "myFmt = dates.DateFormatter('%d\\n%b')\n",
    "ax.xaxis.set_major_formatter(myFmt)\n",
    "ax.xaxis.set_major_locator(dates.DayLocator(interval=3))\n",
    "yLabelTitle(ax,y)\n",
    "ax.set_xlabel(\"Date\")"
   ]
  },
  {
   "cell_type": "code",
   "execution_count": 362,
   "metadata": {},
   "outputs": [],
   "source": []
  },
  {
   "cell_type": "code",
   "execution_count": null,
   "metadata": {},
   "outputs": [],
   "source": []
  },
  {
   "cell_type": "code",
   "execution_count": 363,
   "metadata": {},
   "outputs": [],
   "source": [
    "first_case_reported = new_date_list[0]"
   ]
  },
  {
   "cell_type": "code",
   "execution_count": 364,
   "metadata": {},
   "outputs": [],
   "source": [
    "date_list_calculate = [datetime.strptime(dateInDatetime, '%Y-%m-%d') for dateInDatetime in new_date_list]"
   ]
  },
  {
   "cell_type": "code",
   "execution_count": 370,
   "metadata": {},
   "outputs": [
    {
     "data": {
      "text/plain": [
       "91"
      ]
     },
     "execution_count": 370,
     "metadata": {},
     "output_type": "execute_result"
    }
   ],
   "source": [
    "date_first_case = date_list_calculate[0]\n",
    "current_date = datetime.now()\n",
    "days_since_first_case = (current_date - date_first_case).days\n",
    "days_since_first_case\n"
   ]
  },
  {
   "cell_type": "code",
   "execution_count": 371,
   "metadata": {},
   "outputs": [],
   "source": [
    "avg_cases_per_day = round(total_confirmed_cases/days_since_first_case)\n",
    "avg_deaths_per_day = round(total_deaths/days_since_first_case)\n",
    "avg_recoveries_per_day = round(total_recovered/days_since_first_case)"
   ]
  },
  {
   "cell_type": "code",
   "execution_count": 366,
   "metadata": {},
   "outputs": [],
   "source": [
    "# total_confirmed_cases = confirmed_list[-1]\n",
    "# total_active_cases = active_list[-1]\n",
    "# total_deaths = deaths_list[-1]\n",
    "# total_recovered = recovered_list[-1]\n",
    "# percent_active = round(total_active_cases/total_confirmed_cases*100,2)\n",
    "# percent_death = round(total_deaths/total_confirmed_cases*100,2)\n",
    "# percent_recovered = round(total_recovered/total_confirmed_cases*100,2)"
   ]
  },
  {
   "cell_type": "code",
   "execution_count": 367,
   "metadata": {},
   "outputs": [],
   "source": [
    "date_before_14_days = current_date - timedelta(days=14)\n",
    "#date_before_14_days\n",
    "year = date_before_14_days.strftime(\"%Y\")\n",
    "month = date_before_14_days.strftime(\"%m\")\n",
    "day = date_before_14_days.strftime(\"%d\")\n",
    "\n",
    "\n",
    "date_before_14_days_string = f\"{year}-{month}-{day}\"\n",
    "date_before_14_days_string\n",
    "\n",
    "index_before_14_days = new_date_list.index(\"2020-05-13\")\n",
    "#total_index = len(new_date_list) \n"
   ]
  },
  {
   "cell_type": "code",
   "execution_count": null,
   "metadata": {},
   "outputs": [],
   "source": []
  },
  {
   "cell_type": "code",
   "execution_count": 368,
   "metadata": {},
   "outputs": [],
   "source": [
    "# i = index_before_14_days\n",
    "# confirmed_cases_14_days = 0\n",
    "# active_cases_14_days = 0\n",
    "# deaths_14_days = 0\n",
    "# recovered_14_days = 0\n",
    "# while i<total_index:\n",
    "#     confirmed_cases_14_days += confirmed_list[i]\n",
    "#     active_cases_14_days += active_list[i]\n",
    "#     deaths_14_days += deaths_list[i]\n",
    "#     recovered_14_days += recovered_list[i]\n",
    "#     i = i+1\n",
    "confirmed_cases_14_days = total_confirmed_cases - confirmed_list[index_before_14_days]\n",
    "active_cases_14_days = total_active_cases - active_list[index_before_14_days]\n",
    "deaths_14_days = total_deaths - deaths_list[index_before_14_days]\n",
    "recovered_14_days = total_recovered - recovered_list[index_before_14_days]\n",
    "avg_cases_per_day_14_days = round(confirmed_cases_14_days/14)\n",
    "avg_deaths_per_day_14_days = round(deaths_14_days/14)\n",
    "avg_recoveries_per_day_14_days = round(recovered_14_days/14)"
   ]
  },
  {
   "cell_type": "code",
   "execution_count": null,
   "metadata": {},
   "outputs": [],
   "source": []
  },
  {
   "cell_type": "code",
   "execution_count": null,
   "metadata": {},
   "outputs": [],
   "source": []
  },
  {
   "cell_type": "code",
   "execution_count": 369,
   "metadata": {},
   "outputs": [
    {
     "name": "stdout",
     "output_type": "stream",
     "text": [
      "Statistics for Brazil\n",
      "Total Confirmed Cases : 391,222\n",
      "Total Active Cases : 208,117\n",
      "Total Deaths : 24,512\n",
      "Total Recovered : 158,593\n",
      "Active Percentage : 53.2%\n",
      "Death Percentage : 6.27%\n",
      "Recovery Percentage : 40.54%\n",
      "First Case Reported : 2020-02-26\n",
      "Days since First Case : 91\n",
      "Average Cases Per Day : 3,344\n",
      "Average Deaths Per Day : 210\n",
      "Average Recoveries Per Day : 1,355\n",
      "\n",
      "\n",
      "Statistics for Brazil For Last 14 days (2 weeks)\n",
      "Confirmed Cases : 201,085\n",
      "Active Cases : 109,644\n",
      "Deaths : 11,272\n",
      "Recovered : 80,169\n",
      "Average Cases Per Day : 14,363\n",
      "Average Deaths Per Day : 805\n",
      "Average Recoveries Per Day : 5,726\n"
     ]
    }
   ],
   "source": [
    "print(f\"Statistics for {country_name_capitalized}\")\n",
    "print(f\"Total Confirmed Cases : {total_confirmed_cases:n}\")\n",
    "print(f\"Total Active Cases : {total_active_cases:n}\")\n",
    "print(f\"Total Deaths : {total_deaths:n}\")\n",
    "print(f\"Total Recovered : {total_recovered:n}\")\n",
    "print(f\"Active Percentage : {percent_active:n}%\")\n",
    "print(f\"Death Percentage : {percent_death}%\")\n",
    "print(f\"Recovery Percentage : {percent_recovered}%\")\n",
    "print(f\"First Case Reported : {first_case_reported}\")\n",
    "print(f\"Days since First Case : {days_since_first_case}\")\n",
    "print(f\"Average Cases Per Day : {avg_cases_per_day:n}\")\n",
    "print(f\"Average Deaths Per Day : {avg_deaths_per_day:n}\")\n",
    "print(f\"Average Recoveries Per Day : {avg_recoveries_per_day:n}\")\n",
    "print(\"\\n\")\n",
    "print(f\"Statistics for {country_name_capitalized} For Last 14 days (2 weeks)\")\n",
    "print(f\"Confirmed Cases : {confirmed_cases_14_days:n}\")\n",
    "print(f\"Active Cases : {active_cases_14_days:n}\")\n",
    "print(f\"Deaths : {deaths_14_days:n}\")\n",
    "print(f\"Recovered : {recovered_14_days:n}\")\n",
    "print(f\"Average Cases Per Day : {avg_cases_per_day_14_days:n}\")\n",
    "print(f\"Average Deaths Per Day : {avg_deaths_per_day_14_days:n}\")\n",
    "print(f\"Average Recoveries Per Day : {avg_recoveries_per_day_14_days:n}\")\n",
    "\n"
   ]
  },
  {
   "cell_type": "code",
   "execution_count": null,
   "metadata": {},
   "outputs": [],
   "source": []
  },
  {
   "cell_type": "code",
   "execution_count": null,
   "metadata": {},
   "outputs": [],
   "source": []
  }
 ],
 "metadata": {
  "kernelspec": {
   "display_name": "Python 3",
   "language": "python",
   "name": "python3"
  },
  "language_info": {
   "codemirror_mode": {
    "name": "ipython",
    "version": 3
   },
   "file_extension": ".py",
   "mimetype": "text/x-python",
   "name": "python",
   "nbconvert_exporter": "python",
   "pygments_lexer": "ipython3",
   "version": "3.7.6"
  }
 },
 "nbformat": 4,
 "nbformat_minor": 4
}
